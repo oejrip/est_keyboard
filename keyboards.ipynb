{
  "nbformat": 4,
  "nbformat_minor": 0,
  "metadata": {
    "colab": {
      "provenance": []
    },
    "kernelspec": {
      "name": "python3",
      "display_name": "Python 3"
    },
    "language_info": {
      "name": "python"
    }
  },
  "cells": [
    {
      "cell_type": "code",
      "source": [
        "\n",
        "data=\"test_andmestik_20_rida.txt\"\n",
        "\n",
        "with open(data, 'r') as file:\n",
        "    file_content = file.read()\n",
        "\n",
        "words=file_content.split()\n",
        "\n",
        "# Get 10 unique random words (without replacement)\n",
        "#random_words = random.sample(words, 100)\n",
        "\n",
        "print(words)"
      ],
      "metadata": {
        "colab": {
          "base_uri": "https://localhost:8080/"
        },
        "id": "lGsBJ3wDwcjw",
        "outputId": "832e006d-ea05-4be8-aa4f-878304fbe4d5"
      },
      "execution_count": null,
      "outputs": [
        {
          "output_type": "stream",
          "name": "stdout",
          "text": [
            "['kolm', 'esimest', 'vastast', 'seljavõiduga', 'eestlannale', 'allajäämist', 'pidid', 'järgepidi', 'tunnistama', 'nii', 'ukrainlanna', 'julia', 'lavrenjuk', 'venelanna', 'tatjana', 'morozova', 'kui', 'ka', 'gamze', 'durukan', 'türgist', 'finaalivastaseks', 'sai', 'epp', 'mäe', 'prantslanna', 'cynthia', 'vanessa', 'meedias', 'esmaspäeval', 'septembril', 'kell', 'toimub', 'rapla', 'kultuurikeskuse', 'saalis', 'tallinna', 'mnt', 'a', 'järjekordne', 'rapla', 'doonoripäev', 'tule', 'tee', 'kauneim', 'kingitus', 'nb', 'palume', 'eelnevalt', 'verekeskuse', 'kodulehel', 'aeg', 'ette', 'töörõhku', 'kruvikompressor', 'sagedusmuunduriga', 'tihtipeale', 'kipub', 'suruõhuvajadus', 'olema', 'ka', 'väga', 'kaootiline', 'olenevalt', 'tellimuste', 'arvust', 'tootmises', 'mitmes', 'vahetuses', 'töö', 'käib', 'kas', 'kasutatakse', 'palju', 'käsitööriistu', 'jne', 'seetõttu', 'ostetud', 'kaupade', 'ja', 'teenuste', 'ülevaate', 'koostamiseks', 'ning', 'kliendieelistuste', 'analüüsimiseks', 'isikuandmeid', 'nagu', 'e', 'post', 'telefoni', 'nr', 'kliendi', 'nimi', 'töödeldakse', 'selleks', 'et', 'lahendada', 'kaupade', 'ja', 'teenustega', 'seonduvaid', 'küsimusi', 'keeles', 'olen', 'enda', 'üle', 'uhke', 'tano', 'banana', 'elfu', 'moja', 'shillingi', 'ehk', 'viis', 'banaani', 'tuhande', 'šillingu', 'eest', 'töötas', 'hakkab', 'keel', 'juba', 'suhu', 'saama', 'veidike', 'parem', 'vaade', 'oli', 'täna', 'ka', 'kilimanjaro', 'mäestikule', 'küll', 'aga', 'ainult', 'selle', 'kõrval', 'olevale', 'aastase', 'vegetatsiooni', 'perioodi', 'jooksul', 'võib', 'tekkida', 'vajadus', 'võsusid', 'purustada', 'varjualune', 'on', 'siseruumita', 'ehitis', 'mis', 'kaitseb', 'loomi', 'neile', 'mittesobivate', 'ilmastikutingimuste', 'eest', 'veemahuti', 'on', 'vahetatav', 'pukseeritav', 'seadeldis', 'mille', 'korralikult', 'vaeva', 'et', 'siit', 'üldse', 'midagi', 'kätte', 'saada', 'täiskasvanud', 'saksa', 'lambakoeral', 'kulub', 'kõrva', 'närimiseks', 'ca', 'minutit', 'kutsikas', 'ilmselt', 'võib', 'närida', 'seda', 'tunde', 'kui', 'mitte', 'päevi', 'karvaga', 'veise', 'kõrva', 'puhul', 'tuleb', 'arvestada', 'üpris', 'tugeva', 'ja', 'funktsionaalses', 'lugemises', 'uus', 'valdkond', 'uuringus', 'oli', 'meeskondlik', 'probleemi', 'lahendamine', 'uuringus', 'osales', 'riiki', 'ja', 'majanduspiirkonda', 'testi', 'tegi', 'üle', 'eesti', 'õpilast', 'neist', 'olid', 'tüdrukud', 'ja', 'poisid', 'noortest', 'ülimalt', 'keeruline', 'vältida', 'olgu', 'siis', 'tegu', 'otseste', 'sademetega', 'või', 'mingi', 'muu', 'niiskusega', 'temperatuuride', 'erinevus', 'on', 'tohutu', 'võrreldes', 'tubaste', 'tingimustega', 'ja', 'küllap', 'paisuvad', 'ka', 'aluspind', 'ja', 'keraamika', 'klinker', 'looduskivi', 'betoonist', 'pisut', 'seisukord', 'normaalses', 'korras', 'postkaardikomplekt', 'nimi', 'sees', 'sisu', 'postkaardikomplektis', 'on', 'värvifotot', 'eesti', 'kaunite', 'loodusvaadetega', 'ranna', 'ja', 'metsamaastikud', 'erinevad', 'loomad', 'linnud', 'ning', 'teema', 'postkaardid', 'vanad', 'fotod', 'koormuselt', 'ma', 'arvan', 'ka', 'et', 'on', 'ülihea', 'annab', 'ikka', 'tugeva', 'treenituse', 'mõelda', 'et', 'kuud', 'mitte', 'üldse', 'liigutada', 'nii', 'võib', 'ju', 'puiseks', 'jääda', 'edu', 'siis', 'reelika', 'dvd', 'meeldib', 'ürita', 'vähemalt', 'paar', 'kolm', 'korda', 'nädalas', 'selle', 'järgi', 'võimelda', 'on', 'suur', 'osa', 'lehti', 'üles', 'ehitatud', 'nii', 'et', 'need', 'kausta', 'tunnused', 'on', 'virtuaalsed', 'mod', 'rewrite', 'siinkohal', 'tuleks', 'meeles', 'pidada', 'pigem', 'kogu', 'kodulehe', 'üldist', 'struktuuri', 'niisama', 'naljapärast', 'urli', 'sügavust', 'juurde', 'lisada', 'ei', 'tasuks', 'aga', 'kui', 'pildid', 'ja', 'tarkvara', 'autoriõigused', 'kuuluvad', 'transpordiametile', 'või', 'isikule', 'kes', 'on', 'need', 'loonud', 'transpordiameti', 'e', 'teeninduse', 'keskkonna', 'sisu', 'ja', 'tarkvara', 'on', 'kaitstud', 'õigusaktidega', 'transpordiameti', 'e', 'teeninduse', 'keskkond', 'on', 'ja', 'töövihikus', 'marta', 'ja', 'karl', 'on', 'kaksikud', 'kes', 'elavad', 'eesti', 'väikelinnas', 'nad', 'on', 'tavalised', 'eestimaa', 'klassi', 'õpilased', 'seega', 'eakaaslased', 'nende', 'vanavanemad', 'elavad', 'maal', 'nende', 'elu', 'on', 'samasugune', 'kui', 'teistel', 'eestimaa', 'lastel', 'nad', 'on', 'vahel', 'rohkem', 'aega', 'koos', 'veeta', 'planeerige', 'oma', 'aega', 'pulmaauto', 'rendi', 'kasuks', 'otsustades', 'jõuate', 'igale', 'poole', 'mugavalt', 'turvaliselt', 'ja', 'hilinemiseta', 'uued', 'autod', 'ja', 'laitmatu', 'teenindus', 'sixt', 'pakub', 'vaid', 'uusi', 'autosid', 'valige', 'enda', 'jaoks', 'sobivaim', 'auto', 'ja', 'teab', 'ilmselt', 'sama', 'vähe', 'kui', 'baturinist', 'ja', 'see', 'on', 'krak', 'wi', 'marcin', 'wietlicki', 'tolle', 'detektiivist', 'peategelane', 'istub', 'samamoodi', 'kõrtsus', 'ning', 'laseb', 'lugudel', 'ja', 'lahendustel', 'lihtsalt', 'enda', 'juurde', 'tulla', 'ometi', 'on', 'ta', 'keskpunkt', 'olemise', 'lukk', 'kes', 'hoiab', 'müügikoolitusse', 'suhtuvad', 'siis', 'võeti', 'see', 'soojalt', 'vastu', 'ühesõnaga', 'mu', 'elu', 'esimene', 'zoomi', 'koolitus', 'läks', 'hästi', 'üks', 'põhilistest', 'teemadest', 'millest', 'ma', 'rääkisin', 'oli', 'kliendibaasi', 'laiendamine', 'maaklerite', 'äriedu', 'sõltub', 'otseselt', 'kataloogis', 'on', 'dokumendid', 'mida', 'jagatakse', 'kodulehe', 'vahendusel', 'osad', 'dokumendid', 'on', 'allalaadituna', 'ka', 'täidetavad', 'rtf', 'vormingus', 'dokumendid', 'mis', 'ei', 'ole', 'täidetavad', 'on', 'pdf', 'vormingus', 'täidetavad', 'dokumendid', 'tuleb', 'kas', 'aastal', 'alanud', 'majanduskriis', 'töötus', 'ja', 'palgakärped', 'on', 'avaldanud', 'mõju', 'miljonitele', 'inimestele', 'kas', 'ajal', 'mil', 'maailma', 'ühe', 'rikkaima', 'piirkonna', 'koolilõpetajad', 'ei', 'leia', 'tööd', 'on', 'keskkonnast', 'rääkimine', 'üldse', 'kohane', 'euroopa', 'liidu', 'uus', 'asi', 'on', 'selles', 'et', 'tegu', 'pole', 'puhta', 'ulmega', 'vaid', 'logiraamatu', 'formaadis', 'ulmekomöödiaga', 'tagakaanelt', 'või', 'milleski', 'muus', 'ei', 'oskagi', 'öelda', 'aga', 'raamat', 'tõesti', 'meeldis', 'mulle', 'lühidalt', 'barcelonas', 'maanduvad', 'kaks', 'tulnukat', 'kellest', 'lugu', 'peab']\n"
          ]
        }
      ]
    },
    {
      "cell_type": "code",
      "source": [
        "# Count total number of letters (ignore digits, punctuation, etc.)\n",
        "total_letters = sum(len(word) for word in words if word.isalpha())\n",
        "\n",
        "print(\"Total number of letters:\", total_letters)"
      ],
      "metadata": {
        "colab": {
          "base_uri": "https://localhost:8080/"
        },
        "id": "zSNyetqWo9-P",
        "outputId": "1f5f841b-241a-448f-ada2-cd442c4330b9"
      },
      "execution_count": null,
      "outputs": [
        {
          "output_type": "stream",
          "name": "stdout",
          "text": [
            "Total number of letters: 641\n"
          ]
        }
      ]
    },
    {
      "cell_type": "code",
      "execution_count": null,
      "metadata": {
        "id": "7eRxFJdahdeJ"
      },
      "outputs": [],
      "source": [
        "def keyboard_score(words, left_matrix, right_matrix):\n",
        "    # Build lookup: letter -> (hand, row_index, col_index)\n",
        "    key_positions = {}\n",
        "    for row_idx in range(3):\n",
        "        for col_idx in range(6):\n",
        "            char_left = left_matrix[row_idx][col_idx]\n",
        "            if char_left:\n",
        "                key_positions[char_left.lower()] = ('left', row_idx, col_idx)\n",
        "            char_right = right_matrix[row_idx][col_idx]\n",
        "            if char_right:\n",
        "                key_positions[char_right.lower()] = ('right', row_idx, col_idx)\n",
        "\n",
        "    total_score = 0\n",
        "    pressed_right=0\n",
        "    pressed_left=0\n",
        "\n",
        "    for word in words:\n",
        "        last_hand = None\n",
        "        last_row_idx = None\n",
        "        last_col_idx = None\n",
        "\n",
        "        for char in word.lower():\n",
        "            if char not in key_positions:\n",
        "                continue\n",
        "\n",
        "            current_hand, row_idx, col_idx = key_positions[char]\n",
        "\n",
        "            if last_hand is not None:\n",
        "              if current_hand == 'left':\n",
        "                pressed_left+=1\n",
        "              else:\n",
        "                pressed_right+=1\n",
        "              if current_hand != last_hand:\n",
        "                  if row_idx != last_row_idx:\n",
        "                      total_score += 0  # Rule 3: hand and row changed\n",
        "                  elif row_idx == 0:\n",
        "                      total_score += 1  # Rule 5: hand switch in upper row\n",
        "                  else:\n",
        "                      total_score += 1  # Rule 1: normal hand switch\n",
        "              else:\n",
        "                    # Same hand\n",
        "                  if row_idx == 1 and last_row_idx == 1:\n",
        "                      if current_hand == 'left' and col_idx > last_col_idx:\n",
        "                          total_score += 1  # Rule 2: left hand, middle row, increasing col\n",
        "                      elif current_hand == 'right' and col_idx < last_col_idx:\n",
        "                          total_score += 1  # Rule 2: right hand, middle row, decreasing col\n",
        "                  elif row_idx != last_row_idx:\n",
        "                      total_score -= 1  # Rule 4: same hand, different row\n",
        "\n",
        "            last_hand = current_hand\n",
        "            last_row_idx = row_idx\n",
        "            last_col_idx = col_idx\n",
        "\n",
        "    return total_score, pressed_left, pressed_right\n"
      ]
    },
    {
      "cell_type": "code",
      "source": [
        "# pirje 1\n",
        "left_matrix = [\n",
        "    ['f', 'j', 'm', 'g', 'ä', 'ü'],\n",
        "    ['', 'o', 'n', 't', 'i', 'a'],\n",
        "    ['', '', 'z', 'x', 'c', 'v']\n",
        "]\n",
        "\n",
        "right_matrix = [\n",
        "    ['b', 'õ', 'p', 'r', 'h', 'ö'],\n",
        "    ['d', 's', 'e', 'u', 'l', 'k'],\n",
        "    ['y', 'w', 'q', '', '', '']\n",
        "]\n",
        "\n",
        "#words = random_words\n",
        "score = keyboard_score(words, left_matrix, right_matrix)\n",
        "print(f\"Score for keyboard:\", score)\n"
      ],
      "metadata": {
        "colab": {
          "base_uri": "https://localhost:8080/"
        },
        "id": "3svgL5tvtkld",
        "outputId": "44bd87db-06a2-4a76-9b71-f114a9514ff3"
      },
      "execution_count": null,
      "outputs": [
        {
          "output_type": "stream",
          "name": "stdout",
          "text": [
            "Score for keyboard: (153, 273, 268)\n"
          ]
        }
      ]
    },
    {
      "cell_type": "code",
      "source": [
        "# pirje 2\n",
        "left_matrix = [\n",
        "    ['f', 'j', 'm', 'g', 'ä', 'ü'],\n",
        "    ['', 'k', 'l', 'u', 'e', 's'],\n",
        "    ['', '', 'z', 'x', 'c', 'v']\n",
        "]\n",
        "\n",
        "right_matrix = [\n",
        "    ['b', 'õ', 'p', 'r', 'h', 'ö'],\n",
        "    ['d', 'a', 'i', 't', 'n', 'o'],\n",
        "    ['y', 'w', 'q', '', '', '']\n",
        "]\n",
        "\n",
        "#words = random_words\n",
        "score = keyboard_score(words, left_matrix, right_matrix)\n",
        "print(f\"Score for keyboard:\", score)"
      ],
      "metadata": {
        "colab": {
          "base_uri": "https://localhost:8080/"
        },
        "id": "yLKKhEQFd_Wt",
        "outputId": "65faa4c4-9cc2-4c82-f9fc-d3895d379900"
      },
      "execution_count": null,
      "outputs": [
        {
          "output_type": "stream",
          "name": "stdout",
          "text": [
            "Score for keyboard: (162, 262, 279)\n"
          ]
        }
      ]
    },
    {
      "cell_type": "code",
      "source": [
        "# pirje 3\n",
        "left_matrix = [\n",
        "    ['f', 'h', 'm', 'p', 'õ', 'b'],\n",
        "    ['', 'k', 'o', 'i', 'e', 'n'],\n",
        "    ['', '', 'z', 'x', 'c', 'v']\n",
        "]\n",
        "\n",
        "right_matrix = [\n",
        "    ['ü', 'ä', 'r', 'g', 'j', 'ö'],\n",
        "    ['d', 't', 'u', 'l', 'a', 's'],\n",
        "    ['y', 'w', 'q', '', '', '']\n",
        "]\n",
        "\n",
        "#words = random_words\n",
        "score = keyboard_score(words, left_matrix, right_matrix)\n",
        "print(f\"Score for keyboard:\", score)"
      ],
      "metadata": {
        "colab": {
          "base_uri": "https://localhost:8080/"
        },
        "id": "Lc6kaim_eKZb",
        "outputId": "2dcf2ba0-3f4e-45ba-ee96-07bdcfcac639"
      },
      "execution_count": null,
      "outputs": [
        {
          "output_type": "stream",
          "name": "stdout",
          "text": [
            "Score for keyboard: (146, 246, 295)\n"
          ]
        }
      ]
    },
    {
      "cell_type": "code",
      "source": [
        "# pirje 4\n",
        "left_matrix = [\n",
        "    ['f', 'ä', 'r', 'g', 'h', 'b'],\n",
        "    ['', 'a', 'e', 'i', 'o', 'u'],\n",
        "    ['', '', 'z', 'x', 'c', 'v']\n",
        "]\n",
        "\n",
        "right_matrix = [\n",
        "    ['ü', 'j', 'p', 'm', 'õ', 'ö'],\n",
        "    ['d', 's', 't', 'n', 'l', 'k'],\n",
        "    ['y', 'w', 'q', '', '', '']\n",
        "]\n",
        "\n",
        "#words = random_words\n",
        "score = keyboard_score(words, left_matrix, right_matrix)\n",
        "print(f\"Score for keyboard:\", score)"
      ],
      "metadata": {
        "colab": {
          "base_uri": "https://localhost:8080/"
        },
        "id": "cWHqi2R4eLcE",
        "outputId": "11623fe7-e1ca-43dd-d2fe-71ebb674915d"
      },
      "execution_count": null,
      "outputs": [
        {
          "output_type": "stream",
          "name": "stdout",
          "text": [
            "Score for keyboard: (184, 326, 215)\n"
          ]
        }
      ]
    },
    {
      "cell_type": "code",
      "source": [
        "# pirje 5\n",
        "left_matrix = [\n",
        "    ['ö', 'õ', 'r', 'm', 'ä', 'ü'],\n",
        "    ['', 'k', 'l', 'o', 'u', 'n'],\n",
        "    ['', '', 'z', 'x', 'c', 'v']\n",
        "]\n",
        "\n",
        "right_matrix = [\n",
        "    ['b', 'h', 'p', 'g', 'j', 'f'],\n",
        "    ['d', 's', 'a', 'i', 't', 'e'],\n",
        "    ['y', 'w', 'q', '', '', '']\n",
        "]\n",
        "\n",
        "#words = random_words\n",
        "score = keyboard_score(words, left_matrix, right_matrix)\n",
        "print(f\"Score for keyboard:\", score)"
      ],
      "metadata": {
        "colab": {
          "base_uri": "https://localhost:8080/"
        },
        "id": "LYPyfRcyeMoZ",
        "outputId": "3f684469-8401-4663-f00d-2a69674ecc28"
      },
      "execution_count": null,
      "outputs": [
        {
          "output_type": "stream",
          "name": "stdout",
          "text": [
            "Score for keyboard: (147, 199, 342)\n"
          ]
        }
      ]
    },
    {
      "cell_type": "code",
      "source": [
        "# anu 1\n",
        "left_matrix = [\n",
        "    ['f', 'h', 'm', 'g', 'õ', 'ü'],\n",
        "    ['', 'o', 'n', 'u', 'e', 'a'],\n",
        "    ['', '', 'z', 'x', 'c', 'v']\n",
        "]\n",
        "\n",
        "right_matrix = [\n",
        "    ['b', 'ä', 'p', 'r', 'j', 'ö'],\n",
        "    ['d', 's', 'i', 't', 'l', 'k'],\n",
        "    ['y', 'w', 'q', '', '', '']\n",
        "]\n",
        "\n",
        "#words = random_words\n",
        "score = keyboard_score(words, left_matrix, right_matrix)\n",
        "print(f\"Score for keyboard:\", score)"
      ],
      "metadata": {
        "colab": {
          "base_uri": "https://localhost:8080/"
        },
        "id": "H7Z9huRqeNz7",
        "outputId": "58f272e1-b5a4-4c74-8f5f-eda56d0503b3"
      },
      "execution_count": null,
      "outputs": [
        {
          "output_type": "stream",
          "name": "stdout",
          "text": [
            "Score for keyboard: (168, 284, 257)\n"
          ]
        }
      ]
    },
    {
      "cell_type": "code",
      "source": [
        "# anu 2\n",
        "left_matrix = [\n",
        "    ['f', 'p', 'g', 'õ', 'ö', 'ä'],\n",
        "    ['', 'u', 'k', 'd', 's', 'a'],\n",
        "    ['', '', 'z', 'x', 'c', 'v']\n",
        "]\n",
        "\n",
        "right_matrix = [\n",
        "    ['h', 'j', 'r', 'b', 'ü', 'm'],\n",
        "    ['e', 'i', 'l', 'o', 'n', 't'],\n",
        "    ['y', 'w', 'q', '', '', '']\n",
        "]\n",
        "\n",
        "#words = random_words\n",
        "score = keyboard_score(words, left_matrix, right_matrix)\n",
        "print(f\"Score for keyboard:\", score)"
      ],
      "metadata": {
        "colab": {
          "base_uri": "https://localhost:8080/"
        },
        "id": "Cih8HuCGeQQL",
        "outputId": "abbddd9e-30e7-4ccd-ef26-55089e8fa6d5"
      },
      "execution_count": null,
      "outputs": [
        {
          "output_type": "stream",
          "name": "stdout",
          "text": [
            "Score for keyboard: (156, 236, 305)\n"
          ]
        }
      ]
    },
    {
      "cell_type": "code",
      "source": [
        "# anu 3\n",
        "left_matrix = [\n",
        "    ['f', 'h', 'r', 'ä', 'õ', 'ü'],\n",
        "    ['', 'k', 'n', 't', 'e', 'a'],\n",
        "    ['', '', 'z', 'x', 'c', 'v']\n",
        "]\n",
        "\n",
        "right_matrix = [\n",
        "    ['b', 'p', 'g', 'm', 'j', 'ö'],\n",
        "    ['d', 's', 'i', 'u', 'l', 'o'],\n",
        "    ['y', 'w', 'q', '', '', '']\n",
        "]\n",
        "\n",
        "#words = random_words\n",
        "score = keyboard_score(words, left_matrix, right_matrix)\n",
        "print(f\"Score for keyboard:\", score)"
      ],
      "metadata": {
        "colab": {
          "base_uri": "https://localhost:8080/"
        },
        "id": "XXoO8KsreRiv",
        "outputId": "131d0bdf-f3a1-4549-c6fe-ca4266669d7a"
      },
      "execution_count": null,
      "outputs": [
        {
          "output_type": "stream",
          "name": "stdout",
          "text": [
            "Score for keyboard: (84, 279, 262)\n"
          ]
        }
      ]
    },
    {
      "cell_type": "code",
      "source": [
        "# anu 4\n",
        "left_matrix = [\n",
        "    ['f', 'j', 'r', 'p', 'õ', 'b'],\n",
        "    ['', 'k', 'n', 't', 'i', 's'],\n",
        "    ['', '', 'z', 'x', 'c', 'v']\n",
        "]\n",
        "\n",
        "right_matrix = [\n",
        "    ['ü', 'ä', 'g', 'm', 'h', 'ö'],\n",
        "    ['d', 'a', 'e', 'u', 'l', 'o'],\n",
        "    ['y', 'w', 'q', '', '', '']\n",
        "]\n",
        "\n",
        "#words = random_words\n",
        "score = keyboard_score(words, left_matrix, right_matrix)\n",
        "print(f\"Score for keyboard:\", score)"
      ],
      "metadata": {
        "colab": {
          "base_uri": "https://localhost:8080/"
        },
        "id": "T0RF-Vq1eShw",
        "outputId": "864ad39c-755e-4cc2-d782-ae0f6296d7ec"
      },
      "execution_count": null,
      "outputs": [
        {
          "output_type": "stream",
          "name": "stdout",
          "text": [
            "Score for keyboard: (83, 231, 310)\n"
          ]
        }
      ]
    },
    {
      "cell_type": "code",
      "source": [
        "# anu 5\n",
        "left_matrix = [\n",
        "    ['ö', 'h', 'r', 'p', 'õ', 'b'],\n",
        "    ['', 'k', 'l', 'u', 'i', 's'],\n",
        "    ['', '', 'z', 'x', 'c', 'v']\n",
        "]\n",
        "\n",
        "right_matrix = [\n",
        "    ['ü', 'ä', 'g', 'm', 'j', 'f'],\n",
        "    ['d', 'a', 'e', 't', 'n', 'o'],\n",
        "    ['y', 'w', 'q', '', '', '']\n",
        "]\n",
        "\n",
        "#words = random_words\n",
        "score = keyboard_score(words, left_matrix, right_matrix)\n",
        "print(f\"Score for keyboard:\", score)"
      ],
      "metadata": {
        "colab": {
          "base_uri": "https://localhost:8080/"
        },
        "id": "_sXnZnQreTeb",
        "outputId": "732ff89c-d286-4734-a17d-859e79c0a787"
      },
      "execution_count": null,
      "outputs": [
        {
          "output_type": "stream",
          "name": "stdout",
          "text": [
            "Score for keyboard: (92, 241, 300)\n"
          ]
        }
      ]
    },
    {
      "cell_type": "code",
      "source": [
        "\n",
        "\n",
        "def generate_custom_matrices(top_row_letters, middle_row_letters, bottom_row_fixed, seed=None):\n",
        "    if seed is not None:\n",
        "        random.seed(seed)\n",
        "\n",
        "    # Randomly shuffle top and middle row letters\n",
        "    top_shuffled = random.sample(top_row_letters, len(top_row_letters))\n",
        "    middle_shuffled = random.sample(middle_row_letters, len(middle_row_letters))\n",
        "\n",
        "    # Split top and middle into left/right (equal halves)\n",
        "    top_half = len(top_shuffled) // 2\n",
        "    middle_half = len(middle_shuffled) // 2\n",
        "\n",
        "    top_left = top_shuffled[:top_half]\n",
        "    top_right = top_shuffled[top_half:]\n",
        "\n",
        "    mid_left = middle_shuffled[:middle_half]\n",
        "    mid_right = middle_shuffled[middle_half:]\n",
        "\n",
        "    # Fixed bottom row: assign left/right by splitting or mirroring\n",
        "    bottom_left = list(bottom_row_fixed[:len(bottom_row_fixed)//2])\n",
        "    bottom_right = list(bottom_row_fixed[len(bottom_row_fixed)//2:])\n",
        "\n",
        "    # Build 3x6 matrices\n",
        "    def fill_row(letters):\n",
        "        row = [''] * 6\n",
        "        for i, letter in enumerate(letters):\n",
        "            if i < 6:\n",
        "                row[i] = letter\n",
        "        return row\n",
        "\n",
        "    left_matrix = [\n",
        "        fill_row(top_left),\n",
        "        fill_row(mid_left),\n",
        "        fill_row(bottom_left)\n",
        "    ]\n",
        "\n",
        "    right_matrix = [\n",
        "        fill_row(top_right),\n",
        "        fill_row(mid_right),\n",
        "        fill_row(bottom_right)\n",
        "    ]\n",
        "\n",
        "    return left_matrix, right_matrix\n"
      ],
      "metadata": {
        "id": "HkM56HPsEhQX"
      },
      "execution_count": null,
      "outputs": []
    },
    {
      "cell_type": "code",
      "source": [
        "top_letters = list(\"fjmgäübõprhö\")         # 12 letters\n",
        "middle_letters = list(\"ontiadseulk\")       # 11 letters (will leave one blank)\n",
        "bottom_row_fixed = \"zxcvywq\"               # Fixed row\n",
        "\n",
        "left_matrix, right_matrix = generate_custom_matrices(top_letters, middle_letters, bottom_row_fixed)\n",
        "\n",
        "print(\"Left Matrix:\")\n",
        "for row in left_matrix:\n",
        "    print(row)\n",
        "\n",
        "print(\"\\nRight Matrix:\")\n",
        "for row in right_matrix:\n",
        "    print(row)\n",
        "\n",
        "score = keyboard_score(words, left_matrix, right_matrix)\n",
        "print(f\"Score for keyboard:\", score)\n",
        "\n"
      ],
      "metadata": {
        "colab": {
          "base_uri": "https://localhost:8080/"
        },
        "id": "To6xaWHKEkbv",
        "outputId": "8be9f48d-efb5-4532-a963-5ac7b573ad08"
      },
      "execution_count": null,
      "outputs": [
        {
          "output_type": "stream",
          "name": "stdout",
          "text": [
            "Left Matrix:\n",
            "['b', 'g', 'm', 'p', 'õ', 'f']\n",
            "['k', 'u', 'l', 'd', 's', '']\n",
            "['z', 'x', 'c', '', '', '']\n",
            "\n",
            "Right Matrix:\n",
            "['ä', 'j', 'ö', 'ü', 'h', 'r']\n",
            "['i', 'a', 'e', 't', 'n', 'o']\n",
            "['v', 'y', 'w', 'q', '', '']\n",
            "Score for keyboard: 16\n"
          ]
        }
      ]
    },
    {
      "cell_type": "code",
      "source": [
        "good_results = []\n",
        "min_score = 15    # Adjust as needed\n",
        "num_trials = 100  # Number of random attempts\n",
        "\n",
        "top_letters = list(\"fjmgäübõprhö\")\n",
        "middle_letters = list(\"ontiadseulk\")\n",
        "bottom_row_fixed = \"zxcvywq\"\n",
        "\n",
        "for trial in range(num_trials):\n",
        "    left_matrix, right_matrix = generate_custom_matrices(top_letters, middle_letters, bottom_row_fixed)\n",
        "\n",
        "    score = keyboard_score(words, left_matrix, right_matrix)\n",
        "\n",
        "    if score >= min_score:\n",
        "        good_results.append({\n",
        "            \"score\": score,\n",
        "            \"left\": left_matrix,\n",
        "            \"right\": right_matrix\n",
        "        })\n",
        "\n",
        "# Sort results by score (descending)\n",
        "good_results.sort(key=lambda x: x[\"score\"], reverse=True)\n",
        "\n",
        "# Print top results\n",
        "for i, result in enumerate(good_results[:5]):\n",
        "    print(f\"\\nTop {i+1} - Score: {result['score']}\")\n",
        "    print(\"Left Matrix:\")\n",
        "    for row in result['left']:\n",
        "        print(row)\n",
        "    print(\"Right Matrix:\")\n",
        "    for row in result['right']:\n",
        "        print(row)\n"
      ],
      "metadata": {
        "colab": {
          "base_uri": "https://localhost:8080/"
        },
        "id": "ZyOWIazNFYcv",
        "outputId": "e544ff14-9428-47ce-9c97-78d287c27956"
      },
      "execution_count": null,
      "outputs": [
        {
          "output_type": "stream",
          "name": "stdout",
          "text": [
            "\n",
            "Top 1 - Score: 33\n",
            "Left Matrix:\n",
            "['õ', 'm', 'r', 'g', 'ä', 'j']\n",
            "['l', 's', 'k', 'o', 't', '']\n",
            "['z', 'x', 'c', '', '', '']\n",
            "Right Matrix:\n",
            "['f', 'ü', 'ö', 'b', 'p', 'h']\n",
            "['u', 'a', 'n', 'e', 'd', 'i']\n",
            "['v', 'y', 'w', 'q', '', '']\n",
            "\n",
            "Top 2 - Score: 33\n",
            "Left Matrix:\n",
            "['ä', 'j', 'ö', 'r', 'ü', 'b']\n",
            "['t', 'i', 'd', 'u', 'e', '']\n",
            "['z', 'x', 'c', '', '', '']\n",
            "Right Matrix:\n",
            "['f', 'õ', 'm', 'h', 'g', 'p']\n",
            "['l', 's', 'o', 'k', 'a', 'n']\n",
            "['v', 'y', 'w', 'q', '', '']\n",
            "\n",
            "Top 3 - Score: 32\n",
            "Left Matrix:\n",
            "['p', 'g', 'm', 'f', 'b', 'h']\n",
            "['s', 't', 'l', 'd', 'o', '']\n",
            "['z', 'x', 'c', '', '', '']\n",
            "Right Matrix:\n",
            "['ä', 'ü', 'ö', 'õ', 'j', 'r']\n",
            "['i', 'a', 'k', 'u', 'n', 'e']\n",
            "['v', 'y', 'w', 'q', '', '']\n",
            "\n",
            "Top 4 - Score: 31\n",
            "Left Matrix:\n",
            "['r', 'ä', 'ü', 'b', 'ö', 'f']\n",
            "['o', 'i', 'n', 'e', 'u', '']\n",
            "['z', 'x', 'c', '', '', '']\n",
            "Right Matrix:\n",
            "['p', 'h', 'õ', 'g', 'm', 'j']\n",
            "['k', 'd', 'l', 't', 's', 'a']\n",
            "['v', 'y', 'w', 'q', '', '']\n",
            "\n",
            "Top 5 - Score: 31\n",
            "Left Matrix:\n",
            "['ü', 'r', 'm', 'õ', 'ä', 'h']\n",
            "['t', 'd', 'e', 'k', 'a', '']\n",
            "['z', 'x', 'c', '', '', '']\n",
            "Right Matrix:\n",
            "['j', 'ö', 'f', 'b', 'p', 'g']\n",
            "['u', 'o', 's', 'n', 'l', 'i']\n",
            "['v', 'y', 'w', 'q', '', '']\n"
          ]
        }
      ]
    }
  ]
}